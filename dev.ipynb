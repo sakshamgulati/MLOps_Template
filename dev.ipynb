{
 "cells": [
  {
   "cell_type": "code",
   "execution_count": 2,
   "metadata": {},
   "outputs": [],
   "source": [
    "import logging\n",
    "from sklearn.linear_model import LinearRegression\n",
    "import wandb\n",
    "from sklearn.ensemble import RandomForestRegressor\n",
    "from sklearn.metrics import mean_squared_error, r2_score\n",
    "import pickle\n",
    "import os,sys,yaml\n",
    "module_path = os.path.abspath(os.path.join(os.getcwd(), '..', 'src'))\n",
    "\n",
    "if module_path not in sys.path:\n",
    "    sys.path.append(module_path)\n",
    "# Now you can import your module\n",
    "from src.DataOps.feature_engg import feature_engg_class\n",
    "from src.ModelOps.model_fit import ModelFit\n",
    "from src.DataOps.feature_engg import feature_engg_class"
   ]
  },
  {
   "cell_type": "code",
   "execution_count": 18,
   "metadata": {},
   "outputs": [
    {
     "data": {
      "text/html": [
       "Finishing last run (ID:zra0cf99) before initializing another..."
      ],
      "text/plain": [
       "<IPython.core.display.HTML object>"
      ]
     },
     "metadata": {},
     "output_type": "display_data"
    },
    {
     "data": {
      "text/html": [
       " View run <strong style=\"color:#cdcd00\">dashing-wildflower-64</strong> at: <a href='https://wandb.ai/sakshamgulati123/ml-ops-template/runs/zra0cf99' target=\"_blank\">https://wandb.ai/sakshamgulati123/ml-ops-template/runs/zra0cf99</a><br/> View project at: <a href='https://wandb.ai/sakshamgulati123/ml-ops-template' target=\"_blank\">https://wandb.ai/sakshamgulati123/ml-ops-template</a><br/>Synced 5 W&B file(s), 0 media file(s), 0 artifact file(s) and 0 other file(s)"
      ],
      "text/plain": [
       "<IPython.core.display.HTML object>"
      ]
     },
     "metadata": {},
     "output_type": "display_data"
    },
    {
     "data": {
      "text/html": [
       "Find logs at: <code>./wandb/run-20240425_095625-zra0cf99/logs</code>"
      ],
      "text/plain": [
       "<IPython.core.display.HTML object>"
      ]
     },
     "metadata": {},
     "output_type": "display_data"
    },
    {
     "data": {
      "text/html": [
       "Successfully finished last run (ID:zra0cf99). Initializing new run:<br/>"
      ],
      "text/plain": [
       "<IPython.core.display.HTML object>"
      ]
     },
     "metadata": {},
     "output_type": "display_data"
    },
    {
     "data": {
      "text/html": [
       "Tracking run with wandb version 0.16.6"
      ],
      "text/plain": [
       "<IPython.core.display.HTML object>"
      ]
     },
     "metadata": {},
     "output_type": "display_data"
    },
    {
     "data": {
      "text/html": [
       "Run data is saved locally in <code>/Users/sakshamgulati/MLOps_Template/wandb/run-20240425_095723-8d46ry7s</code>"
      ],
      "text/plain": [
       "<IPython.core.display.HTML object>"
      ]
     },
     "metadata": {},
     "output_type": "display_data"
    },
    {
     "data": {
      "text/html": [
       "Syncing run <strong><a href='https://wandb.ai/sakshamgulati123/ml-ops-template/runs/8d46ry7s' target=\"_blank\">fearless-water-65</a></strong> to <a href='https://wandb.ai/sakshamgulati123/ml-ops-template' target=\"_blank\">Weights & Biases</a> (<a href='https://wandb.me/run' target=\"_blank\">docs</a>)<br/>"
      ],
      "text/plain": [
       "<IPython.core.display.HTML object>"
      ]
     },
     "metadata": {},
     "output_type": "display_data"
    },
    {
     "data": {
      "text/html": [
       " View project at <a href='https://wandb.ai/sakshamgulati123/ml-ops-template' target=\"_blank\">https://wandb.ai/sakshamgulati123/ml-ops-template</a>"
      ],
      "text/plain": [
       "<IPython.core.display.HTML object>"
      ]
     },
     "metadata": {},
     "output_type": "display_data"
    },
    {
     "data": {
      "text/html": [
       " View run at <a href='https://wandb.ai/sakshamgulati123/ml-ops-template/runs/8d46ry7s' target=\"_blank\">https://wandb.ai/sakshamgulati123/ml-ops-template/runs/8d46ry7s</a>"
      ],
      "text/plain": [
       "<IPython.core.display.HTML object>"
      ]
     },
     "metadata": {},
     "output_type": "display_data"
    }
   ],
   "source": [
    "os.environ[\"WANDB_API_KEY\"] = \"22787bdec6329d031c43de72471e610b908a8815\"\n",
    "with open('conf/mlops.yaml', 'r') as file:\n",
    "            config = yaml.safe_load(file)\n",
    "model_name = config['model_name']\n",
    "project_name=config['project_name']\n",
    "model_type=config['model_type']\n",
    "run = wandb.init(project=\"ml-ops-template\",job_type=\"inference\")"
   ]
  },
  {
   "cell_type": "code",
   "execution_count": 19,
   "metadata": {},
   "outputs": [
    {
     "data": {
      "text/plain": [
       "'diabetes_model'"
      ]
     },
     "execution_count": 19,
     "metadata": {},
     "output_type": "execute_result"
    }
   ],
   "source": [
    "model_name"
   ]
  },
  {
   "cell_type": "code",
   "execution_count": 20,
   "metadata": {},
   "outputs": [
    {
     "name": "stdout",
     "output_type": "stream",
     "text": [
      "<Artifact QXJ0aWZhY3Q6ODA5ODc1MDAy>\n"
     ]
    },
    {
     "name": "stderr",
     "output_type": "stream",
     "text": [
      "\u001b[34m\u001b[1mwandb\u001b[0m:   1 of 1 files downloaded.  \n"
     ]
    },
    {
     "name": "stdout",
     "output_type": "stream",
     "text": [
      "/Users/sakshamgulati/MLOps_Template/artifacts/run-c6p9lia4-model.pickle:v0\n"
     ]
    }
   ],
   "source": [
    "artifact = run.use_artifact(f'sakshamgulati123/model-registry/{model_name}:v0', type='model')\n",
    "# downloaded_model_path = run.use_model(name=model_name)\n",
    "print(artifact)\n",
    "\n",
    "artifact_dir = artifact.download()\n",
    "print(artifact_dir)"
   ]
  },
  {
   "cell_type": "code",
   "execution_count": 26,
   "metadata": {},
   "outputs": [
    {
     "name": "stderr",
     "output_type": "stream",
     "text": [
      "INFO:root:Data loaded from sklearn datasets\n",
      "INFO:root:Data imputed for missing values\n",
      "INFO:root:Data Scaled\n",
      "INFO:root:Data split into testing and train\n"
     ]
    }
   ],
   "source": [
    "\n",
    "\n",
    "\n",
    "diabetes = feature_engg_class()\n",
    "data, target = diabetes.load_data()\n",
    "fin_df = diabetes.standard_scaling(data)\n",
    "X_train, X_test, y_train, y_test = diabetes.split(\n",
    "    fin_df, target\n",
    ")\n",
    "model = RandomForestRegressor().fit(X_train, y_train)\n"
   ]
  },
  {
   "cell_type": "code",
   "execution_count": 18,
   "metadata": {},
   "outputs": [],
   "source": [
    "from pathlib import Path\n",
    "filename = Path(\"artifacts/model1/model.pickle\")\n",
    "# Ensure the directory exists\n",
    "filename.parent.mkdir(parents=True, exist_ok=True)\n",
    "with open(filename, 'wb') as file:\n",
    "    pickle.dump(model, file)"
   ]
  },
  {
   "cell_type": "code",
   "execution_count": 19,
   "metadata": {},
   "outputs": [
    {
     "data": {
      "text/html": [
       " View run <strong style=\"color:#cdcd00\">worthy-yogurt-54</strong> at: <a href='https://wandb.ai/sakshamgulati123/ml-ops-template/runs/huppgypw' target=\"_blank\">https://wandb.ai/sakshamgulati123/ml-ops-template/runs/huppgypw</a><br/> View project at: <a href='https://wandb.ai/sakshamgulati123/ml-ops-template' target=\"_blank\">https://wandb.ai/sakshamgulati123/ml-ops-template</a><br/>Synced 5 W&B file(s), 0 media file(s), 1 artifact file(s) and 0 other file(s)"
      ],
      "text/plain": [
       "<IPython.core.display.HTML object>"
      ]
     },
     "metadata": {},
     "output_type": "display_data"
    },
    {
     "data": {
      "text/html": [
       "Find logs at: <code>./wandb/run-20240422_174701-huppgypw/logs</code>"
      ],
      "text/plain": [
       "<IPython.core.display.HTML object>"
      ]
     },
     "metadata": {},
     "output_type": "display_data"
    }
   ],
   "source": [
    "registered_model_name = \"MNIST-dev\"\n",
    "run.link_model(path=filename, registered_model_name=registered_model_name)\n",
    "run.finish()"
   ]
  },
  {
   "cell_type": "code",
   "execution_count": 20,
   "metadata": {},
   "outputs": [
    {
     "data": {
      "text/html": [
       "Tracking run with wandb version 0.16.6"
      ],
      "text/plain": [
       "<IPython.core.display.HTML object>"
      ]
     },
     "metadata": {},
     "output_type": "display_data"
    },
    {
     "data": {
      "text/html": [
       "Run data is saved locally in <code>/Users/sakshamgulati/MLOps_Template/wandb/run-20240422_180738-8a6ih14g</code>"
      ],
      "text/plain": [
       "<IPython.core.display.HTML object>"
      ]
     },
     "metadata": {},
     "output_type": "display_data"
    },
    {
     "data": {
      "text/html": [
       "Syncing run <strong><a href='https://wandb.ai/sakshamgulati123/ml-ops-template/runs/8a6ih14g' target=\"_blank\">stilted-lion-55</a></strong> to <a href='https://wandb.ai/sakshamgulati123/ml-ops-template' target=\"_blank\">Weights & Biases</a> (<a href='https://wandb.me/run' target=\"_blank\">docs</a>)<br/>"
      ],
      "text/plain": [
       "<IPython.core.display.HTML object>"
      ]
     },
     "metadata": {},
     "output_type": "display_data"
    },
    {
     "data": {
      "text/html": [
       " View project at <a href='https://wandb.ai/sakshamgulati123/ml-ops-template' target=\"_blank\">https://wandb.ai/sakshamgulati123/ml-ops-template</a>"
      ],
      "text/plain": [
       "<IPython.core.display.HTML object>"
      ]
     },
     "metadata": {},
     "output_type": "display_data"
    },
    {
     "data": {
      "text/html": [
       " View run at <a href='https://wandb.ai/sakshamgulati123/ml-ops-template/runs/8a6ih14g' target=\"_blank\">https://wandb.ai/sakshamgulati123/ml-ops-template/runs/8a6ih14g</a>"
      ],
      "text/plain": [
       "<IPython.core.display.HTML object>"
      ]
     },
     "metadata": {},
     "output_type": "display_data"
    },
    {
     "name": "stderr",
     "output_type": "stream",
     "text": [
      "\u001b[34m\u001b[1mwandb\u001b[0m:   1 of 1 files downloaded.  \n"
     ]
    },
    {
     "name": "stdout",
     "output_type": "stream",
     "text": [
      "/Users/sakshamgulati/MLOps_Template/artifacts/run-huppgypw-model.pickle:v0\n"
     ]
    }
   ],
   "source": [
    "job_type = \"evaluate_model\"\n",
    "\n",
    "# Initialize a run\n",
    "run = wandb.init(project=\"ml-ops-template\",job_type=\"inference\")\n",
    "\n",
    "artifact = run.use_artifact('sakshamgulati123/ml-ops-template/run-huppgypw-model.pickle:v0', type='model')\n",
    "artifact_dir = artifact.download()\n",
    "print(artifact_dir)"
   ]
  },
  {
   "cell_type": "code",
   "execution_count": 21,
   "metadata": {},
   "outputs": [
    {
     "name": "stderr",
     "output_type": "stream",
     "text": [
      "INFO:root:Model loaded from the registry\n"
     ]
    }
   ],
   "source": [
    "file_path = os.path.join(artifact_dir, 'model.pickle')  # specify the correct file path\n",
    "with open(file_path, 'rb') as f:\n",
    "    model = pickle.load(f)\n",
    "logging.info(\"Model loaded from the registry\")"
   ]
  },
  {
   "cell_type": "code",
   "execution_count": 30,
   "metadata": {},
   "outputs": [
    {
     "name": "stderr",
     "output_type": "stream",
     "text": [
      "INFO:root:MSE:3079.8153815068495\n",
      "INFO:root:R2:0.46486945233875165\n"
     ]
    }
   ],
   "source": [
    "y_pred = model.predict(X_test)\n",
    "mse = mean_squared_error(y_test, y_pred)\n",
    "r2 = r2_score(y_test, y_pred)\n",
    "# logging MSE and R2 score\n",
    "logging.info(f\"MSE:{mse}\")\n",
    "logging.info(f\"R2:{r2}\")\n",
    "wandb.log({\"Mean squared error\": mse, \"Test R-squared\": r2})"
   ]
  },
  {
   "cell_type": "code",
   "execution_count": null,
   "metadata": {},
   "outputs": [],
   "source": []
  }
 ],
 "metadata": {
  "kernelspec": {
   "display_name": "MLOps_Template-k_6XISXV",
   "language": "python",
   "name": "python3"
  },
  "language_info": {
   "codemirror_mode": {
    "name": "ipython",
    "version": 3
   },
   "file_extension": ".py",
   "mimetype": "text/x-python",
   "name": "python",
   "nbconvert_exporter": "python",
   "pygments_lexer": "ipython3",
   "version": "3.10.13"
  }
 },
 "nbformat": 4,
 "nbformat_minor": 2
}
