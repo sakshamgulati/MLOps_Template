{
 "cells": [
  {
   "cell_type": "code",
   "execution_count": 5,
   "metadata": {},
   "outputs": [],
   "source": [
    "import pandas as pd\n",
    "import datetime\n",
    "from sklearn import datasets\n",
    "import logging\n"
   ]
  },
  {
   "cell_type": "code",
   "execution_count": 8,
   "metadata": {},
   "outputs": [],
   "source": [
    "from evidently.ui.workspace.cloud import CloudWorkspace\n",
    "\n",
    "from evidently.report import Report\n",
    "from evidently.metric_preset import DataQualityPreset\n",
    "from evidently.metric_preset import DataDriftPreset\n",
    "from evidently.metrics import *\n",
    "from evidently.test_suite import TestSuite\n",
    "from evidently.tests import *\n",
    "from evidently.test_preset import DataDriftTestPreset\n",
    "from evidently.tests.base_test import TestResult, TestStatus\n",
    "from src.DataOps.feature_engg import feature_engg_class\n",
    "from src.ModelOps.model_fit import ModelFit\n",
    "import wandb"
   ]
  },
  {
   "cell_type": "code",
   "execution_count": 3,
   "metadata": {},
   "outputs": [
    {
     "data": {
      "text/plain": [
       "Project(id=UUID('009a6dda-dba9-4f8c-8e41-67418d1f9dfc'), name='Test2 Project', description='My project description', dashboard=DashboardConfig(name='Test2 Project', panels=[], tabs=[], tab_id_to_panel_ids={}), team_id=UUID('74fdd884-9679-4693-819b-a6695e652e25'), date_from=None, date_to=None, created_at=datetime.datetime(2024, 6, 18, 20, 54, 45, 71256))"
      ]
     },
     "execution_count": 3,
     "metadata": {},
     "output_type": "execute_result"
    }
   ],
   "source": [
    "from dotenv import load_dotenv\n",
    "import os\n",
    "\n",
    "load_dotenv()\n",
    "#connecting to evidently cloud workspace using API token\n",
    "ws = CloudWorkspace(\n",
    "token=os.getenv('evi_api'),\n",
    "url=\"https://app.evidently.cloud\")\n",
    "\n",
    "# #creating a project in the workspace\n",
    "__project_name__=\"Test2 Project\"\n",
    "__team_id__=\"74fdd884-9679-4693-819b-a6695e652e25\"\n",
    "\n",
    "project = ws.create_project(__project_name__,team_id=__team_id__)\n",
    "project.description = \"My project description\"\n",
    "project.save()"
   ]
  },
  {
   "cell_type": "code",
   "execution_count": 4,
   "metadata": {},
   "outputs": [
    {
     "name": "stderr",
     "output_type": "stream",
     "text": [
      "INFO:root:Feature Engineering class initialized\n",
      "INFO:root:Retrieving stock price data from Alpha Vantage (This may take a while)...\n",
      "INFO:root:Data has been successfully downloaded...\n",
      "INFO:root:Storing the retrieved data into a dataframe...\n",
      "100%|██████████| 1285/1285 [00:01<00:00, 695.75it/s]\n",
      "INFO:root:Sorting the index and changing column data types...\n",
      "INFO:root:Data loaded successfully\n",
      "INFO:root:Data shape: (1285, 7)\n",
      "INFO:root:Earliest Date:2024-06-18 00:00:00,Latest Date:2024-06-18 00:00:00\n",
      "INFO:root:Data prepared for Prophet\n",
      "INFO:root:Data split into train and test successfully\n",
      "INFO:root:Train shape: 899\n",
      "INFO:root:Test shape: 386\n"
     ]
    }
   ],
   "source": [
    "stock_data = feature_engg_class()\n",
    "data=stock_data.request_stock_price_hist('AAPL')\n",
    "stock_data.data=data\n",
    "train,test=stock_data.split(use_prophet=True)"
   ]
  },
  {
   "cell_type": "code",
   "execution_count": 7,
   "metadata": {},
   "outputs": [
    {
     "name": "stdout",
     "output_type": "stream",
     "text": [
      "stock_price_prediction ml-ops-template classification sakshamgulati123\n"
     ]
    }
   ],
   "source": [
    "import yaml\n",
    "with open('conf/mlops.yaml', 'r') as file:\n",
    "            config = yaml.safe_load(file)\n",
    "model_name = config['model_name']\n",
    "project_name=config['project_name']\n",
    "model_type=config['model_type']\n",
    "wandb_entity=config['wandb_entity']\n",
    "print(model_name,project_name,model_type,wandb_entity)"
   ]
  },
  {
   "cell_type": "code",
   "execution_count": 12,
   "metadata": {},
   "outputs": [
    {
     "data": {
      "text/html": [
       "Finishing last run (ID:7y91ptej) before initializing another..."
      ],
      "text/plain": [
       "<IPython.core.display.HTML object>"
      ]
     },
     "metadata": {},
     "output_type": "display_data"
    },
    {
     "data": {
      "text/html": [
       " View run <strong style=\"color:#cdcd00\">sleek-blaze-10</strong> at: <a href='https://wandb.ai/sakshamgulati123/stock_price_prediction/runs/7y91ptej' target=\"_blank\">https://wandb.ai/sakshamgulati123/stock_price_prediction/runs/7y91ptej</a><br/> View project at: <a href='https://wandb.ai/sakshamgulati123/stock_price_prediction' target=\"_blank\">https://wandb.ai/sakshamgulati123/stock_price_prediction</a><br/>Synced 5 W&B file(s), 0 media file(s), 0 artifact file(s) and 0 other file(s)"
      ],
      "text/plain": [
       "<IPython.core.display.HTML object>"
      ]
     },
     "metadata": {},
     "output_type": "display_data"
    },
    {
     "data": {
      "text/html": [
       "Find logs at: <code>./wandb/run-20240618_210028-7y91ptej/logs</code>"
      ],
      "text/plain": [
       "<IPython.core.display.HTML object>"
      ]
     },
     "metadata": {},
     "output_type": "display_data"
    },
    {
     "data": {
      "text/html": [
       "Successfully finished last run (ID:7y91ptej). Initializing new run:<br/>"
      ],
      "text/plain": [
       "<IPython.core.display.HTML object>"
      ]
     },
     "metadata": {},
     "output_type": "display_data"
    },
    {
     "data": {
      "text/html": [
       "wandb version 0.17.2 is available!  To upgrade, please run:\n",
       " $ pip install wandb --upgrade"
      ],
      "text/plain": [
       "<IPython.core.display.HTML object>"
      ]
     },
     "metadata": {},
     "output_type": "display_data"
    },
    {
     "data": {
      "text/html": [
       "Tracking run with wandb version 0.16.6"
      ],
      "text/plain": [
       "<IPython.core.display.HTML object>"
      ]
     },
     "metadata": {},
     "output_type": "display_data"
    },
    {
     "data": {
      "text/html": [
       "Run data is saved locally in <code>/Users/sakshamgulati/MLOps_Template/wandb/run-20240618_210056-54b05jgf</code>"
      ],
      "text/plain": [
       "<IPython.core.display.HTML object>"
      ]
     },
     "metadata": {},
     "output_type": "display_data"
    },
    {
     "data": {
      "text/html": [
       "Syncing run <strong><a href='https://wandb.ai/sakshamgulati123/stock_price_prediction/runs/54b05jgf' target=\"_blank\">expert-leaf-11</a></strong> to <a href='https://wandb.ai/sakshamgulati123/stock_price_prediction' target=\"_blank\">Weights & Biases</a> (<a href='https://wandb.me/run' target=\"_blank\">docs</a>)<br/>"
      ],
      "text/plain": [
       "<IPython.core.display.HTML object>"
      ]
     },
     "metadata": {},
     "output_type": "display_data"
    },
    {
     "data": {
      "text/html": [
       " View project at <a href='https://wandb.ai/sakshamgulati123/stock_price_prediction' target=\"_blank\">https://wandb.ai/sakshamgulati123/stock_price_prediction</a>"
      ],
      "text/plain": [
       "<IPython.core.display.HTML object>"
      ]
     },
     "metadata": {},
     "output_type": "display_data"
    },
    {
     "data": {
      "text/html": [
       " View run at <a href='https://wandb.ai/sakshamgulati123/stock_price_prediction/runs/54b05jgf' target=\"_blank\">https://wandb.ai/sakshamgulati123/stock_price_prediction/runs/54b05jgf</a>"
      ],
      "text/plain": [
       "<IPython.core.display.HTML object>"
      ]
     },
     "metadata": {},
     "output_type": "display_data"
    },
    {
     "name": "stderr",
     "output_type": "stream",
     "text": [
      "\u001b[34m\u001b[1mwandb\u001b[0m:   1 of 1 files downloaded.  \n",
      "INFO:root:Artifact downloaded at: /Users/sakshamgulati/MLOps_Template/artifacts/run-6g0znzbn-serialized_model.json:v0\n",
      "INFO:root:Model artifact downloaded\n",
      "INFO:root:Model loaded from the registry\n"
     ]
    }
   ],
   "source": [
    "from prophet.serialize import  model_from_json\n",
    "\n",
    "run = wandb.init(project=model_name,job_type=model_type)\n",
    "artifact = run.use_artifact(f'{wandb_entity}/model-registry/{model_name}:latest', type='model')\n",
    "artifact_dir = artifact.download()\n",
    "logging.info(f\"Artifact downloaded at: {artifact_dir}\")\n",
    "logging.info(\"Model artifact downloaded\")\n",
    "#load  pickle file\n",
    "file_path = os.path.join(artifact_dir, 'serialized_model.json')  # specify the correct file path\n",
    "with open(file_path, 'r') as fin:\n",
    "    model = model_from_json(fin.read())  # Load model\n",
    "logging.info(\"Model loaded from the registry\")\n",
    "y_pred = model.predict(test)\n"
   ]
  },
  {
   "cell_type": "code",
   "execution_count": 14,
   "metadata": {},
   "outputs": [
    {
     "name": "stderr",
     "output_type": "stream",
     "text": [
      "\u001b[34m\u001b[1mwandb\u001b[0m:   1 of 1 files downloaded.  \n",
      "INFO:root:Artifact downloaded at: /Users/sakshamgulati/MLOps_Template/artifacts/reference-dataset:v3\n",
      "INFO:root:Reference artifact downloaded\n"
     ]
    },
    {
     "name": "stderr",
     "output_type": "stream",
     "text": [
      "wandb: Network error (ConnectionError), entering retry loop.\n"
     ]
    }
   ],
   "source": [
    "ref_dataset = run.use_artifact(f'{wandb_entity}/{model_name}/reference-dataset:latest', type='dataset')\n",
    "ref_dataset_dir = ref_dataset.download()\n",
    "logging.info(f\"Artifact downloaded at: {ref_dataset_dir}\")\n",
    "logging.info(\"Reference artifact downloaded\")"
   ]
  },
  {
   "cell_type": "code",
   "execution_count": null,
   "metadata": {},
   "outputs": [],
   "source": []
  }
 ],
 "metadata": {
  "kernelspec": {
   "display_name": "MLOps_Template-k_6XISXV",
   "language": "python",
   "name": "python3"
  },
  "language_info": {
   "codemirror_mode": {
    "name": "ipython",
    "version": 3
   },
   "file_extension": ".py",
   "mimetype": "text/x-python",
   "name": "python",
   "nbconvert_exporter": "python",
   "pygments_lexer": "ipython3",
   "version": "3.10.13"
  }
 },
 "nbformat": 4,
 "nbformat_minor": 2
}
